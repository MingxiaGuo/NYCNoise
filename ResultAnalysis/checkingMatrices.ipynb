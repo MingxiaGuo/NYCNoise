{
 "cells": [
  {
   "cell_type": "markdown",
   "metadata": {},
   "source": [
    "# 1. Loading Data"
   ]
  },
  {
   "cell_type": "code",
   "execution_count": 2,
   "metadata": {
    "collapsed": false
   },
   "outputs": [],
   "source": [
    "%matplotlib inline\n",
    "\n",
    "import numpy\n",
    "import matplotlib\n",
    "import matplotlib.pyplot as plt\n",
    "\n",
    "B = numpy.loadtxt(\"../Results/B.csv\", delimiter=\",\")  # 149 x 4\n",
    "C = numpy.loadtxt(\"../Results/C.csv\", delimiter=\",\")  # 18 x 18\n",
    "D = numpy.loadtxt(\"../Results/D.csv\", delimiter=\",\")  # 149 x 24"
   ]
  },
  {
   "cell_type": "markdown",
   "metadata": {},
   "source": [
    "# 2. Current results\n",
    "\n",
    "### Data description: \n",
    "* 2015-06-05 / 2015-08-02\n",
    "* 10393828 taxi trips\n",
    "\n",
    "## Considerations\n",
    "\n",
    "* To not use the road bed do not changed the results obtained sigficantly, when looking to the with data for all hours of the day. \n",
    "* The aumount of taxi trip data used do not affected significantly the results. Maybe they follow a similiar distribution no matter the chosen period?"
   ]
  },
  {
   "cell_type": "markdown",
   "metadata": {},
   "source": [
    "# 3. Analyzing Complaints' Categories Correlation Matrix"
   ]
  },
  {
   "cell_type": "code",
   "execution_count": 3,
   "metadata": {
    "collapsed": false
   },
   "outputs": [
    {
     "name": "stdout",
     "output_type": "stream",
     "text": [
      "dim(C) (18, 18)\n",
      "Max correlation = 1.0 for categories Air Condition/Ventilation Equipment | Air Condition/Ventilation Equipment\n",
      "Min correlation = 0.0 for categories Air Condition/Ventilation Equipment | Alarms\n"
     ]
    }
   ],
   "source": [
    "categories = ['Air Condition/Ventilation Equipment', \n",
    "              'Alarms',\n",
    "              'Banging/Pounding', \n",
    "              'Barking Dog', \n",
    "              'Car/Truck Horn',\n",
    "              'Car/Truck Music', \n",
    "              'Construction Equipment',\n",
    "              'Construction Before/After Hours', \n",
    "              'Engine Idling',\n",
    "              'Ice Cream Truck', \n",
    "              'Jack Hammering', \n",
    "              'Lawn Care Equipment',\n",
    "              'Loud Music/Party', \n",
    "              'Loud Talking', \n",
    "              'Loud Television',\n",
    "              'Manufacturing Noise', \n",
    "              'Others',\n",
    "              'Private Carting Noise']\n",
    "\n",
    "max_corr = numpy.argmax(C)\n",
    "min_corr = numpy.argmin(C)\n",
    "\n",
    "print 'dim(C)', numpy.shape(C)  # checking\n",
    "print 'Max correlation =', numpy.max(C), 'for categories', categories[max_corr/18], '|', categories[max_corr%18]\n",
    "print 'Min correlation =', numpy.min(C), 'for categories', categories[min_corr/18], '|', categories[min_corr%18]"
   ]
  },
  {
   "cell_type": "markdown",
   "metadata": {},
   "source": [
    "For a 311 complaint $ns$ (of the $i$th category), we count the complaints of other categories $varphi_j$ ($i \\leq j \\leq M, j \\neq i$) within the distance $\\delta$ to $n$. \n",
    "Then the correlation between two categories $c_i$ and $c_j$ can be calculated as:    "
   ]
  },
  {
   "cell_type": "markdown",
   "metadata": {},
   "source": [
    "$$cor(c_i, c_j) = \\dfrac{\\sum_{ns \\in \\Psi, ns.c=c_i \\mid \\varphi_j \\mid}}{\\mid c_i \\mid \\dot \\mid c_j \\mid}$$ with $c_i \\neq c_j$.\n",
    "\n",
    "$$\\varphi_j = {ns' \\mid dist(ns.l, ns'.l) \\leq \\delta \\wedge ns'.c = c_j}$$"
   ]
  },
  {
   "cell_type": "markdown",
   "metadata": {},
   "source": [
    "Where $\\mid c_i \\mid$ and $\\mid c_j \\mid$ denote the number of  complaints in category $c_i$ and $c_j$ respectively, $\\Psi$ is the collection of 311 data."
   ]
  },
  {
   "cell_type": "code",
   "execution_count": 4,
   "metadata": {
    "collapsed": true
   },
   "outputs": [],
   "source": [
    "def fillCorr(complaints_loc, dist):\n",
    "    \"\"\"\n",
    "    Fill the correlation matrix for the Tensor Context Aware Decomposition.\n",
    "    :param complaints_loc: dictionary {complaint type : [coordinates]}\n",
    "    :param dist: minimum distance between coordinates to be considered.\n",
    "    :return: numpy array containing the correlation between each complaint category.\n",
    "    \"\"\"\n",
    "    complaints_loc = collections.OrderedDict(sorted(complaints_loc.items()))  # To maintain an order in a dict\n",
    "    categories = len(complaints_loc)                                          # Number of different categories\n",
    "\n",
    "    Z = numpy.ones((categories, categories))\n",
    "\n",
    "    for index_1, key_1 in enumerate(complaints_loc):\n",
    "        for index_2, key_2 in enumerate(complaints_loc):  # Forming pairs\n",
    "            if index_1 != index_2:\n",
    "                loc_1 = complaints_loc[key_1]  # List of tuples corresponding to coordinates for type *i*\n",
    "                loc_2 = complaints_loc[key_2]  # List of tuples corresponding to coordinates for type *j*\n",
    "                sum = 0\n",
    "                for l1 in loc_1:\n",
    "                    for l2 in loc_2:\n",
    "                        p1 = (l1[0], l1[1])\n",
    "                        p2 = (l2[0], l2[1])\n",
    "                        if haversine(p1, p2) <= dist:  # Distance between two complaints of types *i* and *j*\n",
    "                            sum += 1\n",
    "                mul = float(len(loc_1) * len(loc_2))\n",
    "                if mul != 0:\n",
    "                    Z[index_1, index_2] = sum / mul    # Correlation between category *i* and *j*\n",
    "                else:\n",
    "                    Z[index_1, index_2] = 0.0\n",
    "\n",
    "    return Z"
   ]
  },
  {
   "cell_type": "code",
   "execution_count": 5,
   "metadata": {
    "collapsed": false,
    "scrolled": true
   },
   "outputs": [
    {
     "data": {
      "text/plain": [
       "<matplotlib.colorbar.Colorbar at 0x10cb979d0>"
      ]
     },
     "execution_count": 5,
     "metadata": {},
     "output_type": "execute_result"
    },
    {
     "data": {
      "image/png": "[encoded data removed]",
      "text/plain": [
       "<matplotlib.figure.Figure at 0x10ca5dbd0>"
      ]
     },
     "metadata": {},
     "output_type": "display_data"
    }
   ],
   "source": [
    "plt.figure(figsize=(6, 6), dpi=200)\n",
    "fig = plt.imshow(C, cmap=plt.cm.hot_r, interpolation='none')\n",
    "plt.axes().set_aspect('equal')\n",
    "plt.colorbar(fig)"
   ]
  },
  {
   "cell_type": "markdown",
   "metadata": {},
   "source": [
    "Easy to see that the correlation matrix is not good... The distance used was 100. All correlations that are non-zero are 1.0. Changing the distance parameter changed slightly the correlation value, but not the instances that have correlations between each other."
   ]
  },
  {
   "cell_type": "code",
   "execution_count": 13,
   "metadata": {
    "collapsed": false
   },
   "outputs": [
    {
     "name": "stdout",
     "output_type": "stream",
     "text": [
      "1.0 : 2 4 - Banging/Pounding | Car/Truck Horn\n",
      "1.0 : 2 5 - Banging/Pounding | Car/Truck Music\n",
      "1.0 : 2 8 - Banging/Pounding | Engine Idling\n",
      "1.0 : 2 12 - Banging/Pounding | Loud Music/Party\n",
      "1.0 : 2 13 - Banging/Pounding | Loud Talking\n",
      "1.0 : 4 5 - Car/Truck Horn | Car/Truck Music\n",
      "1.0 : 4 8 - Car/Truck Horn | Engine Idling\n",
      "1.0 : 4 12 - Car/Truck Horn | Loud Music/Party\n",
      "1.0 : 4 13 - Car/Truck Horn | Loud Talking\n",
      "1.0 : 5 8 - Car/Truck Music | Engine Idling\n",
      "1.0 : 5 12 - Car/Truck Music | Loud Music/Party\n",
      "1.0 : 5 13 - Car/Truck Music | Loud Talking\n",
      "1.0 : 8 12 - Engine Idling | Loud Music/Party\n",
      "1.0 : 8 13 - Engine Idling | Loud Talking\n",
      "1.0 : 12 13 - Loud Music/Party | Loud Talking\n"
     ]
    }
   ],
   "source": [
    "for i in range(0, 15):\n",
    "    for j in range(i, 15):\n",
    "        if i!=j and C[i, j] != 0.0:\n",
    "            print C[i, j], ':', i, j, '-', categories[i%18], '|', categories[j%18]"
   ]
  },
  {
   "cell_type": "markdown",
   "metadata": {},
   "source": [
    "Now let's check the top significant complaints in the input data (matrix A)."
   ]
  },
  {
   "cell_type": "code",
   "execution_count": 9,
   "metadata": {
    "collapsed": false
   },
   "outputs": [
    {
     "name": "stdout",
     "output_type": "stream",
     "text": [
      "dim(total_A) (18,)\n",
      "dim(total_P) (18,)\n",
      "Top categories for input matrix A:\n"
     ]
    },
    {
     "data": {
      "text/plain": [
       "[('Barking Dog', 0.0),\n",
       " ('Car/Truck Horn', 15.0),\n",
       " ('Engine Idling', 27.0),\n",
       " ('Banging/Pounding', 30.0),\n",
       " ('Car/Truck Music', 49.0),\n",
       " ('Loud Talking', 122.0),\n",
       " ('Others', 278.0),\n",
       " ('Loud Music/Party', 376.0)]"
      ]
     },
     "execution_count": 9,
     "metadata": {},
     "output_type": "execute_result"
    }
   ],
   "source": [
    "A = numpy.zeros((149, 18, 24))  # 149 x 18 x 24 -- original / sparse\n",
    "P = numpy.zeros((149, 18, 24))  # 149 x 18 x 24 -- missing values inferred\n",
    "for t in range(24):\n",
    "    A[:, :, t] = numpy.loadtxt(\"../Results/A-\"+str(t)+\".csv\", delimiter=\",\")\n",
    "    P[:, :, t] = numpy.loadtxt(\"../Results/P-\"+str(t)+\".csv\", delimiter=\",\")   \n",
    "total_A = numpy.sum(A, axis=(0,2))\n",
    "total_P = numpy.sum(P, axis=(0,2)) \n",
    "\n",
    "print 'dim(total_A)', total_A.shape\n",
    "print 'dim(total_P)', total_P.shape\n",
    "\n",
    "top_A = numpy.argpartition(total_A, -8, axis=None)[-8:]\n",
    "top_P = numpy.argpartition(total_P, -8, axis=None)[-8:]\n",
    "\n",
    "print 'Top categories for input matrix A:'\n",
    "sorted([(categories[i], numpy.round(total_A[i])) for i in top_A], key=lambda tup: tup[1])"
   ]
  },
  {
   "cell_type": "code",
   "execution_count": 10,
   "metadata": {
    "collapsed": false
   },
   "outputs": [
    {
     "name": "stdout",
     "output_type": "stream",
     "text": [
      "Top categories for output matrix P:\n"
     ]
    },
    {
     "data": {
      "text/plain": [
       "[('Alarms', 459.0),\n",
       " ('Air Condition/Ventilation Equipment', 460.0),\n",
       " ('Car/Truck Horn', 471.0),\n",
       " ('Manufacturing Noise', 472.0),\n",
       " ('Engine Idling', 480.0),\n",
       " ('Construction Equipment', 481.0),\n",
       " ('Loud Music/Party', 1036.0),\n",
       " ('Others', 1318.0)]"
      ]
     },
     "execution_count": 10,
     "metadata": {},
     "output_type": "execute_result"
    }
   ],
   "source": [
    "print 'Top categories for output matrix P:'\n",
    "sorted([(categories[i], numpy.round(total_P[i])) for i in top_P], key=lambda tup: tup[1])"
   ]
  },
  {
   "cell_type": "markdown",
   "metadata": {},
   "source": [
    "As we can see, there is just one categoried in commom between the input and output matrix (I'm not taking \"Others\" into account)."
   ]
  },
  {
   "cell_type": "markdown",
   "metadata": {},
   "source": [
    "# 4. Analyzing Humam Mobility Features Matrix"
   ]
  },
  {
   "cell_type": "code",
   "execution_count": 11,
   "metadata": {
    "collapsed": false
   },
   "outputs": [
    {
     "name": "stdout",
     "output_type": "stream",
     "text": [
      "dim(D) (149, 24)\n",
      "dim(total_dropofss) (149,)\n",
      "Regions with most dropoffs:\n"
     ]
    },
    {
     "data": {
      "text/plain": [
       "[(130, 1.78),\n",
       " (10, 1.82),\n",
       " (0, 3.71),\n",
       " (139, 3.92),\n",
       " (121, 6.29),\n",
       " (105, 16.05),\n",
       " (104, 7.54),\n",
       " (8, 9.84),\n",
       " (4, 7.36),\n",
       " (97, 6.07)]"
      ]
     },
     "execution_count": 11,
     "metadata": {},
     "output_type": "execute_result"
    }
   ],
   "source": [
    "print 'dim(D)', numpy.shape(D)  # checking\n",
    "total_dropoffs = numpy.sum(D, axis=1)\n",
    "print 'dim(total_dropofss)', numpy.shape(total_dropoffs)\n",
    "top_dropoffs = numpy.argpartition(total_dropoffs, -10, axis=None)[-10:]\n",
    "print 'Regions with most dropoffs:'\n",
    "[(i, round(total_dropoffs[i], 2)) for i in top_dropoffs]"
   ]
  },
  {
   "cell_type": "code",
   "execution_count": 12,
   "metadata": {
    "collapsed": false
   },
   "outputs": [
    {
     "data": {
      "text/plain": [
       "<matplotlib.colorbar.Colorbar at 0x10d53bb50>"
      ]
     },
     "execution_count": 12,
     "metadata": {},
     "output_type": "execute_result"
    },
    {
     "data": {
      "image/png": "[encoded data removed]",
      "text/plain": [
       "<matplotlib.figure.Figure at 0x10b4ad550>"
      ]
     },
     "metadata": {},
     "output_type": "display_data"
    }
   ],
   "source": [
    "plt.figure(figsize=(10, 10), dpi=200)\n",
    "fig = plt.imshow(D, cmap=plt.cm.hot_r, interpolation='none', aspect='auto')\n",
    "plt.yticks(numpy.arange(0, 150, 4))\n",
    "plt.xticks(numpy.arange(0, 24, 1))\n",
    "plt.colorbar(fig)"
   ]
  },
  {
   "cell_type": "markdown",
   "metadata": {
    "collapsed": true
   },
   "source": [
    "## 5. Analyzing Regions' Features Matrix"
   ]
  },
  {
   "cell_type": "code",
   "execution_count": null,
   "metadata": {
    "collapsed": true
   },
   "outputs": [],
   "source": []
  }
 ],
 "metadata": {
  "kernelspec": {
   "display_name": "Python 2",
   "language": "python",
   "name": "python2"
  },
  "language_info": {
   "codemirror_mode": {
    "name": "ipython",
    "version": 2
   },
   "file_extension": ".py",
   "mimetype": "text/x-python",
   "name": "python",
   "nbconvert_exporter": "python",
   "pygments_lexer": "ipython2",
   "version": "2.7.11"
  }
 },
 "nbformat": 4,
 "nbformat_minor": 0
}
