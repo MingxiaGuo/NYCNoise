{
 "cells": [
  {
   "cell_type": "markdown",
   "metadata": {},
   "source": [
    "# 1. Loading Data"
   ]
  },
  {
   "cell_type": "code",
   "execution_count": 42,
   "metadata": {
    "collapsed": false
   },
   "outputs": [],
   "source": [
    "%matplotlib inline\n",
    "\n",
    "import numpy\n",
    "import matplotlib\n",
    "import matplotlib.pyplot as plt\n",
    "\n",
    "B = numpy.loadtxt(\"../Results/B.csv\", delimiter=\",\")  # 149 x 4\n",
    "C = numpy.loadtxt(\"../Results/C.csv\", delimiter=\",\")  # 18 x 18\n",
    "D = numpy.loadtxt(\"../Results/D.csv\", delimiter=\",\")  # 149 x 24"
   ]
  },
  {
   "cell_type": "markdown",
   "metadata": {},
   "source": [
    "# 2. Current results\n",
    "\n",
    "### Data description: \n",
    "2015-06-29 / 2015-02-01\n",
    "\n",
    "### Discrepant regions\n",
    "\n",
    "Input Matrix A:\n",
    "\n",
    "| Region | Complaints |\n",
    "|--------|------------|\n",
    "| 0      | 20         |\n",
    "| 1      | 0          |\n",
    "| 50     | 3          |\n",
    "| 129    | 2          |\n",
    "\n",
    "Output Matrix P:\n",
    "\n",
    "| Region | Complaints |\n",
    "|--------|------------|\n",
    "| 0      | 54         |\n",
    "| 1      | 77         |\n",
    "| 50     | 58         |\n",
    "| 129    | 65         |\n",
    "\n",
    "## Considerations\n",
    "\n",
    "* To not use the road bed do not changed the results obtained sigficantly. "
   ]
  },
  {
   "cell_type": "markdown",
   "metadata": {},
   "source": [
    "# 3. Analyzing Complaints' Categories Correlation Matrix"
   ]
  },
  {
   "cell_type": "code",
   "execution_count": 43,
   "metadata": {
    "collapsed": false
   },
   "outputs": [
    {
     "name": "stdout",
     "output_type": "stream",
     "text": [
      "dim(C) (18, 18)\n",
      "Max correlation = 1.0 for categories Air Condition/Ventilation Equipment | Air Condition/Ventilation Equipment\n",
      "Min correlation = 0.0 for categories Air Condition/Ventilation Equipment | Alarms\n"
     ]
    }
   ],
   "source": [
    "categories = ['Air Condition/Ventilation Equipment', \n",
    "              'Alarms',\n",
    "              'Banging/Pounding', \n",
    "              'Barking Dog', \n",
    "              'Car/Truck Horn',\n",
    "              'Car/Truck Music', \n",
    "              'Construction Equipment',\n",
    "              'Construction Before/After Hours', \n",
    "              'Engine Idling',\n",
    "              'Ice Cream Truck', \n",
    "              'Jack Hammering', \n",
    "              'Lawn Care Equipment',\n",
    "              'Loud Music/Party', \n",
    "              'Loud Talking', \n",
    "              'Loud Television',\n",
    "              'Manufacturing Noise', \n",
    "              'Others',\n",
    "              'Private Carting Noise']\n",
    "\n",
    "max_corr = numpy.argmax(C)\n",
    "min_corr = numpy.argmin(C)\n",
    "\n",
    "print 'dim(C)', numpy.shape(C)  # checking\n",
    "print 'Max correlation =', numpy.max(C), 'for categories', categories[max_corr/18], '|', categories[max_corr%18]\n",
    "print 'Min correlation =', numpy.min(C), 'for categories', categories[min_corr/18], '|', categories[min_corr%18]"
   ]
  },
  {
   "cell_type": "markdown",
   "metadata": {},
   "source": [
    "For a 311 complaint $ns$ (of the $i$th category), we count the complaints of other categories $varphi_j$ ($i \\leq j \\leq M, j \\neq i$) within the distance $\\delta$ to $n$. \n",
    "Then the correlation between two categories $c_i$ and $c_j$ can be calculated as:    "
   ]
  },
  {
   "cell_type": "markdown",
   "metadata": {},
   "source": [
    "$$cor(c_i, c_j) = \\dfrac{\\sum_{ns \\in \\Psi, ns.c=c_i \\mid \\varphi_j \\mid}}{\\mid c_i \\mid \\dot \\mid c_j \\mid}$$ with $c_i \\neq c_j$.\n",
    "\n",
    "$$\\varphi_j = {ns' \\mid dist(ns.l, ns'.l) \\leq \\delta \\wedge ns'.c = c_j}$$"
   ]
  },
  {
   "cell_type": "markdown",
   "metadata": {},
   "source": [
    "Where $\\mid c_i \\mid$ and $\\mid c_j \\mid$ denote the number of  complaints in category $c_i$ and $c_j$ respectively, $\\Psi$ is the collection of 311 data."
   ]
  },
  {
   "cell_type": "code",
   "execution_count": 44,
   "metadata": {
    "collapsed": true
   },
   "outputs": [],
   "source": [
    "def fillCorr(complaints_loc, dist):\n",
    "    \"\"\"\n",
    "    Fill the correlation matrix for the Tensor Context Aware Decomposition.\n",
    "    :param complaints_loc: dictionary {complaint type : [coordinates]}\n",
    "    :param dist: minimum distance between coordinates to be considered.\n",
    "    :return: numpy array containing the correlation between each complaint category.\n",
    "    \"\"\"\n",
    "    complaints_loc = collections.OrderedDict(sorted(complaints_loc.items()))  # To maintain an order in a dict\n",
    "    categories = len(complaints_loc)                                          # Number of different categories\n",
    "\n",
    "    Z = numpy.ones((categories, categories))\n",
    "\n",
    "    for index_1, key_1 in enumerate(complaints_loc):\n",
    "        for index_2, key_2 in enumerate(complaints_loc):  # Forming pairs\n",
    "            if index_1 != index_2:\n",
    "                loc_1 = complaints_loc[key_1]  # List of tuples corresponding to coordinates for type *i*\n",
    "                loc_2 = complaints_loc[key_2]  # List of tuples corresponding to coordinates for type *j*\n",
    "                sum = 0\n",
    "                for l1 in loc_1:\n",
    "                    for l2 in loc_2:\n",
    "                        p1 = (l1[0], l1[1])\n",
    "                        p2 = (l2[0], l2[1])\n",
    "                        if haversine(p1, p2) <= dist:  # Distance between two complaints of types *i* and *j*\n",
    "                            sum += 1\n",
    "                mul = float(len(loc_1) * len(loc_2))\n",
    "                if mul != 0:\n",
    "                    Z[index_1, index_2] = sum / mul    # Correlation between category *i* and *j*\n",
    "                else:\n",
    "                    Z[index_1, index_2] = 0.0\n",
    "\n",
    "    return Z"
   ]
  },
  {
   "cell_type": "code",
   "execution_count": 45,
   "metadata": {
    "collapsed": false,
    "scrolled": true
   },
   "outputs": [
    {
     "data": {
      "text/plain": [
       "<matplotlib.colorbar.Colorbar at 0x10c78c250>"
      ]
     },
     "execution_count": 45,
     "metadata": {},
     "output_type": "execute_result"
    },
    {
     "data": {
      "image/png": "[encoded data removed]",
      "text/plain": [
       "<matplotlib.figure.Figure at 0x10c479cd0>"
      ]
     },
     "metadata": {},
     "output_type": "display_data"
    }
   ],
   "source": [
    "plt.figure(figsize=(6, 6), dpi=200)\n",
    "fig = plt.imshow(C, cmap=plt.cm.hot_r, interpolation='none')\n",
    "plt.axes().set_aspect('equal')\n",
    "plt.colorbar(fig)"
   ]
  },
  {
   "cell_type": "markdown",
   "metadata": {},
   "source": [
    "Easy to see that the correlation matrix is not good... The distance used was 100. All correlations that are non-zero are 1.0. Changing the distance parameter changed the correlation value, but not the instances that have correlations between each other.\n",
    "\n",
    "Let's check the categories between each some correlation exists."
   ]
  },
  {
   "cell_type": "code",
   "execution_count": 46,
   "metadata": {
    "collapsed": false
   },
   "outputs": [
    {
     "name": "stdout",
     "output_type": "stream",
     "text": [
      "1.0 : Banging/Pounding | Car/Truck Horn\n",
      "1.0 : Banging/Pounding | Car/Truck Music\n",
      "1.0 : Banging/Pounding | Engine Idling\n",
      "1.0 : Banging/Pounding | Loud Music/Party\n",
      "1.0 : Banging/Pounding | Loud Talking\n",
      "1.0 : Car/Truck Horn | Car/Truck Music\n",
      "1.0 : Car/Truck Horn | Engine Idling\n",
      "1.0 : Car/Truck Horn | Loud Music/Party\n",
      "1.0 : Car/Truck Horn | Loud Talking\n",
      "1.0 : Car/Truck Music | Engine Idling\n",
      "1.0 : Car/Truck Music | Loud Music/Party\n",
      "1.0 : Car/Truck Music | Loud Talking\n",
      "1.0 : Engine Idling | Loud Music/Party\n",
      "1.0 : Engine Idling | Loud Talking\n",
      "1.0 : Loud Music/Party | Loud Talking\n"
     ]
    }
   ],
   "source": [
    "for i in range(0, 15):\n",
    "    for j in range(i, 15):\n",
    "        if i!=j and C[i, j] != 0.0:\n",
    "            print C[i, j], ':', categories[i%18], '|', categories[j%18]"
   ]
  },
  {
   "cell_type": "markdown",
   "metadata": {},
   "source": [
    "Now let's check the top significant complaints in the input data (matrix A)."
   ]
  },
  {
   "cell_type": "code",
   "execution_count": 47,
   "metadata": {
    "collapsed": false
   },
   "outputs": [
    {
     "name": "stdout",
     "output_type": "stream",
     "text": [
      "dim(total_A) (18,)\n",
      "dim(total_P) (18,)\n",
      "Top categories for input matrix A:\n"
     ]
    },
    {
     "data": {
      "text/plain": [
       "[('Air Condition/Ventilation Equipment', 0),\n",
       " ('Alarms', 1),\n",
       " ('Banging/Pounding', 2),\n",
       " ('Barking Dog', 3),\n",
       " ('Car/Truck Horn', 4),\n",
       " ('Car/Truck Music', 5),\n",
       " ('Construction Equipment', 6),\n",
       " ('Construction Before/After Hours', 7),\n",
       " ('Engine Idling', 8),\n",
       " ('Ice Cream Truck', 9),\n",
       " ('Jack Hammering', 10),\n",
       " ('Lawn Care Equipment', 11),\n",
       " ('Loud Music/Party', 12),\n",
       " ('Loud Talking', 13),\n",
       " ('Loud Television', 14),\n",
       " ('Manufacturing Noise', 15),\n",
       " ('Private Carting Noise', 16),\n",
       " ('Others', 17)]"
      ]
     },
     "execution_count": 47,
     "metadata": {},
     "output_type": "execute_result"
    }
   ],
   "source": [
    "A = numpy.zeros((149, 18, 24))  # 149 x 18 x 24 -- original / sparse\n",
    "P = numpy.zeros((149, 18, 24))  # 149 x 18 x 24 -- missing values inferred\n",
    "for t in range(24):\n",
    "    A[:, :, t] = numpy.loadtxt(\"../Results/A-\"+str(t)+\".csv\", delimiter=\",\")\n",
    "    P[:, :, t] = numpy.loadtxt(\"../Results/P-\"+str(t)+\".csv\", delimiter=\",\")   \n",
    "total_A = numpy.sum(A, axis=(0,2)) \n",
    "total_P = numpy.sum(P, axis=(0,2)) \n",
    "\n",
    "print 'dim(total_A)', total_A.shape\n",
    "print 'dim(total_P)', total_P.shape\n",
    "\n",
    "top_A = numpy.argpartition(total_A, -18, axis=None)[-18:]\n",
    "top_P = numpy.argpartition(total_P, -18, axis=None)[-18:]\n",
    "\n",
    "# The order of categories 16 and 17 are not in alphabetic order as in the dictionary defined in the code.\n",
    "temp_A = top_A[16]\n",
    "top_A[16] = top_A[17]\n",
    "top_A[17] = temp_A\n",
    "\n",
    "temp_P = top_P[16]\n",
    "top_P[16] = top_P[17]\n",
    "top_P[17] = temp_P\n",
    "\n",
    "print 'Top categories for input matrix A:'\n",
    "[(categories[i], top_A[i]) for i in top_A]"
   ]
  },
  {
   "cell_type": "code",
   "execution_count": 48,
   "metadata": {
    "collapsed": false
   },
   "outputs": [
    {
     "name": "stdout",
     "output_type": "stream",
     "text": [
      "Top categories for output matrix P:\n"
     ]
    },
    {
     "data": {
      "text/plain": [
       "[('Lawn Care Equipment', 0),\n",
       " ('Alarms', 1),\n",
       " ('Banging/Pounding', 2),\n",
       " ('Barking Dog', 3),\n",
       " ('Car/Truck Horn', 4),\n",
       " ('Car/Truck Music', 5),\n",
       " ('Construction Equipment', 6),\n",
       " ('Construction Before/After Hours', 7),\n",
       " ('Engine Idling', 8),\n",
       " ('Ice Cream Truck', 9),\n",
       " ('Jack Hammering', 10),\n",
       " ('Air Condition/Ventilation Equipment', 11),\n",
       " ('Loud Music/Party', 12),\n",
       " ('Loud Talking', 13),\n",
       " ('Loud Television', 14),\n",
       " ('Manufacturing Noise', 15),\n",
       " ('Private Carting Noise', 16),\n",
       " ('Others', 17)]"
      ]
     },
     "execution_count": 48,
     "metadata": {},
     "output_type": "execute_result"
    }
   ],
   "source": [
    "print 'Top categories for output matrix P:'\n",
    "[(categories[i], top_P[i]) for i in top_P]"
   ]
  },
  {
   "cell_type": "markdown",
   "metadata": {},
   "source": [
    "# 4. Analyzing Humam Mobility Features Matrix"
   ]
  },
  {
   "cell_type": "code",
   "execution_count": 39,
   "metadata": {
    "collapsed": false
   },
   "outputs": [
    {
     "name": "stdout",
     "output_type": "stream",
     "text": [
      "dim(D) (149, 24)\n",
      "dim(total_dropofss) (149,)\n",
      "Regions with most dropoffs:\n"
     ]
    },
    {
     "data": {
      "text/plain": [
       "[(42, 0.98),\n",
       " (10, 1.25),\n",
       " (139, 2.21),\n",
       " (0, 2.9),\n",
       " (104, 5.68),\n",
       " (105, 13.21),\n",
       " (97, 4.12),\n",
       " (8, 7.66),\n",
       " (4, 5.53),\n",
       " (121, 4.38)]"
      ]
     },
     "execution_count": 39,
     "metadata": {},
     "output_type": "execute_result"
    }
   ],
   "source": [
    "print 'dim(D)', numpy.shape(D)  # checking\n",
    "total_dropoffs = numpy.sum(D, axis=1)\n",
    "print 'dim(total_dropofss)', numpy.shape(total_dropoffs)\n",
    "top_dropoffs = numpy.argpartition(total_dropoffs, -10, axis=None)[-10:]\n",
    "print 'Regions with most dropoffs:'\n",
    "[(i, round(total_dropoffs[i], 2)) for i in top_dropoffs]"
   ]
  },
  {
   "cell_type": "code",
   "execution_count": 40,
   "metadata": {
    "collapsed": false
   },
   "outputs": [
    {
     "data": {
      "text/plain": [
       "<matplotlib.colorbar.Colorbar at 0x1098e66d0>"
      ]
     },
     "execution_count": 40,
     "metadata": {},
     "output_type": "execute_result"
    },
    {
     "data": {
      "image/png": "[encoded data removed]",
      "text/plain": [
       "<matplotlib.figure.Figure at 0x10956c210>"
      ]
     },
     "metadata": {},
     "output_type": "display_data"
    }
   ],
   "source": [
    "plt.figure(figsize=(10, 10), dpi=200)\n",
    "fig = plt.imshow(D, cmap=plt.cm.hot_r, interpolation='none', aspect='auto')\n",
    "plt.yticks(numpy.arange(0, 150, 4))\n",
    "plt.xticks(numpy.arange(0, 24, 1))\n",
    "plt.colorbar(fig)"
   ]
  },
  {
   "cell_type": "markdown",
   "metadata": {},
   "source": [
    "From the discrepant regions, just one (Region 0) apperar in that list. Maybe that's not what is causing the weird result."
   ]
  },
  {
   "cell_type": "markdown",
   "metadata": {
    "collapsed": true
   },
   "source": [
    "## 5. Analyzing Regions' Features Matrix"
   ]
  },
  {
   "cell_type": "code",
   "execution_count": null,
   "metadata": {
    "collapsed": true
   },
   "outputs": [],
   "source": []
  }
 ],
 "metadata": {
  "kernelspec": {
   "display_name": "Python 2",
   "language": "python",
   "name": "python2"
  },
  "language_info": {
   "codemirror_mode": {
    "name": "ipython",
    "version": 2
   },
   "file_extension": ".py",
   "mimetype": "text/x-python",
   "name": "python",
   "nbconvert_exporter": "python",
   "pygments_lexer": "ipython2",
   "version": "2.7.11"
  }
 },
 "nbformat": 4,
 "nbformat_minor": 0
}
